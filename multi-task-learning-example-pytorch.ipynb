{
  "nbformat": 4,
  "nbformat_minor": 0,
  "metadata": {
    "colab": {
      "name": "multi-task-learning-example-pytorch.ipynb",
      "version": "0.3.2",
      "provenance": [],
      "collapsed_sections": []
    },
    "kernelspec": {
      "name": "python3",
      "display_name": "Python 3"
    }
  },
  "cells": [
    {
      "metadata": {
        "id": "6BaMKLQvE8OO",
        "colab_type": "code",
        "outputId": "7a8f1322-f750-42d3-8ae3-f8e52756b299",
        "colab": {
          "base_uri": "https://localhost:8080/",
          "height": 34
        }
      },
      "cell_type": "code",
      "source": [
        "import torch\n",
        "import torch.nn as nn\n",
        "import torch.optim as optim\n",
        "import numpy as np\n",
        "np.random.seed(0)\n",
        "torch.manual_seed(0)"
      ],
      "execution_count": 233,
      "outputs": [
        {
          "output_type": "execute_result",
          "data": {
            "text/plain": [
              "<torch._C.Generator at 0x7fb4adc8dd50>"
            ]
          },
          "metadata": {
            "tags": []
          },
          "execution_count": 233
        }
      ]
    },
    {
      "metadata": {
        "id": "tu9_J0xrIHhj",
        "colab_type": "code",
        "colab": {}
      },
      "cell_type": "code",
      "source": [
        "N = 100\n",
        "nb_epoch = 2000\n",
        "batch_size = 20\n",
        "nb_features = 1024\n",
        "Q = 1\n",
        "nb_output = 2  # total number of output\n",
        "D1 = 1  # first output\n",
        "D2 = 1  # second output"
      ],
      "execution_count": 0,
      "outputs": []
    },
    {
      "metadata": {
        "id": "ObaYZBVpyO3Z",
        "colab_type": "text"
      },
      "cell_type": "markdown",
      "source": [
        "# Evaluate on synthetic data"
      ]
    },
    {
      "metadata": {
        "id": "aoKriQlrIM3A",
        "colab_type": "code",
        "colab": {}
      },
      "cell_type": "code",
      "source": [
        "def gen_data(N):\n",
        "    X = np.random.randn(N, Q)\n",
        "    w1 = 2.\n",
        "    b1 = 8.\n",
        "    sigma1 = 1e1  # ground truth\n",
        "    Y1 = X.dot(w1) + b1 + sigma1 * np.random.randn(N, D1)\n",
        "    w2 = 3\n",
        "    b2 = 3.\n",
        "    sigma2 = 1e0  # ground truth\n",
        "    Y2 = X.dot(w2) + b2 + sigma2 * np.random.randn(N, D2)\n",
        "    return X, Y1, Y2"
      ],
      "execution_count": 0,
      "outputs": []
    },
    {
      "metadata": {
        "id": "Db4B3XIzIPi-",
        "colab_type": "code",
        "outputId": "05027d88-25ea-49cd-8a50-c97e13937e00",
        "colab": {
          "base_uri": "https://localhost:8080/",
          "height": 129
        }
      },
      "cell_type": "code",
      "source": [
        "import pylab\n",
        "%matplotlib inline\n",
        "\n",
        "X, Y1, Y2 = gen_data(N)\n",
        "pylab.figure(figsize=(3, 1.5))\n",
        "pylab.scatter(X[:, 0], Y1[:, 0])\n",
        "pylab.scatter(X[:, 0], Y2[:, 0])\n",
        "pylab.show()"
      ],
      "execution_count": 236,
      "outputs": [
        {
          "output_type": "display_data",
          "data": {
            "image/png": "[encoded data removed]",
            "text/plain": [
              "<Figure size 216x108 with 1 Axes>"
            ]
          },
          "metadata": {
            "tags": []
          }
        }
      ]
    },
    {
      "metadata": {
        "id": "_E7LhkkoyR72",
        "colab_type": "text"
      },
      "cell_type": "markdown",
      "source": [
        "# Example Model"
      ]
    },
    {
      "metadata": {
        "id": "oFKJ9_mfIUlQ",
        "colab_type": "code",
        "colab": {}
      },
      "cell_type": "code",
      "source": [
        "class Net(nn.Module):\n",
        "    def __init__(self, input_size, hidden_size, output1_size, output2_size):\n",
        "        super(Net, self).__init__()\n",
        "        self.fc1 = nn.Linear(input_size, hidden_size) \n",
        "        self.relu = nn.ReLU()\n",
        "        self.fc2 = nn.Linear(hidden_size, output1_size)\n",
        "        self.fc3 = nn.Linear(hidden_size, output2_size)\n",
        "    \n",
        "    def forward(self, x):\n",
        "        out = self.fc1(x)\n",
        "        out = self.relu(out)\n",
        "        out1 = self.fc2(out)\n",
        "        out2 = self.fc3(out)\n",
        "        return out1, out2"
      ],
      "execution_count": 0,
      "outputs": []
    },
    {
      "metadata": {
        "id": "r-UlDkdlK21o",
        "colab_type": "code",
        "colab": {}
      },
      "cell_type": "code",
      "source": [
        "model = Net(Q, nb_features, D1, D2)"
      ],
      "execution_count": 0,
      "outputs": []
    },
    {
      "metadata": {
        "id": "EyR5ree1yWDk",
        "colab_type": "text"
      },
      "cell_type": "markdown",
      "source": [
        "## Define task dependent log_variance"
      ]
    },
    {
      "metadata": {
        "id": "ih0Ocq-NFuX2",
        "colab_type": "code",
        "colab": {}
      },
      "cell_type": "code",
      "source": [
        "log_var_a = torch.zeros((1,), requires_grad=True)\n",
        "log_var_b = torch.zeros((1,), requires_grad=True)"
      ],
      "execution_count": 0,
      "outputs": []
    },
    {
      "metadata": {
        "id": "Q_aXEqn84eGR",
        "colab_type": "code",
        "colab": {
          "base_uri": "https://localhost:8080/",
          "height": 34
        },
        "outputId": "f272b6d8-cb3a-45c3-aa61-cce3b007f5dd"
      },
      "cell_type": "code",
      "source": [
        "# Initialized standard deviations (ground truth is 10 and 1):\n",
        "std_1 = torch.exp(log_var_a)**0.5\n",
        "std_2 = torch.exp(log_var_b)**0.5\n",
        "print([std_1.item(), std_2.item()])"
      ],
      "execution_count": 240,
      "outputs": [
        {
          "output_type": "stream",
          "text": [
            "[1.0, 1.0]\n"
          ],
          "name": "stdout"
        }
      ]
    },
    {
      "metadata": {
        "id": "mcKDv3htMqXJ",
        "colab_type": "code",
        "colab": {}
      },
      "cell_type": "code",
      "source": [
        "# get all parameters (model parameters + task dependent log variances)\n",
        "params = ([p for p in model.parameters()] + [log_var_a] + [log_var_b])"
      ],
      "execution_count": 0,
      "outputs": []
    },
    {
      "metadata": {
        "id": "HfBN-qs2Q_Wj",
        "colab_type": "code",
        "colab": {}
      },
      "cell_type": "code",
      "source": [
        "#optimizer = optim.SGD(params, lr=0.001, momentum=0.9)\n",
        "optimizer = optim.Adam(params)"
      ],
      "execution_count": 0,
      "outputs": []
    },
    {
      "metadata": {
        "id": "MGPCPAXryqT9",
        "colab_type": "text"
      },
      "cell_type": "markdown",
      "source": [
        "## define loss criterion"
      ]
    },
    {
      "metadata": {
        "id": "5rHlOTALGXug",
        "colab_type": "code",
        "colab": {}
      },
      "cell_type": "code",
      "source": [
        "def criterion(y_pred, y_true, log_vars):\n",
        "  loss = 0\n",
        "  for i in range(len(y_pred)):\n",
        "    precision = torch.exp(-log_vars[i])\n",
        "    diff = (y_pred[i]-y_true[i])**2.\n",
        "    loss += torch.sum(precision * diff + log_vars[i], -1)\n",
        "  return torch.mean(loss)"
      ],
      "execution_count": 0,
      "outputs": []
    },
    {
      "metadata": {
        "id": "9Mk7ma7my397",
        "colab_type": "text"
      },
      "cell_type": "markdown",
      "source": [
        "## Train the network"
      ]
    },
    {
      "metadata": {
        "id": "_pQ3cDYGVtPv",
        "colab_type": "code",
        "colab": {}
      },
      "cell_type": "code",
      "source": [
        "# convert data into torch from numpy array\n",
        "X = X.astype('float32')\n",
        "Y1 = Y1.astype('float32')\n",
        "Y2 = Y2.astype('float32')"
      ],
      "execution_count": 0,
      "outputs": []
    },
    {
      "metadata": {
        "id": "mFm-Jtkm2cGk",
        "colab_type": "code",
        "colab": {}
      },
      "cell_type": "code",
      "source": [
        "def shuffle_data(X,Y1,Y2):\n",
        "    s = np.arange(X.shape[0])\n",
        "    np.random.shuffle(s)\n",
        "    return X[s], Y1[s], Y2[s]"
      ],
      "execution_count": 0,
      "outputs": []
    },
    {
      "metadata": {
        "id": "2RJ0U_ss0uT1",
        "colab_type": "code",
        "colab": {}
      },
      "cell_type": "code",
      "source": [
        "## Train Network\n",
        "loss_history = np.zeros(nb_epoch)\n",
        "\n",
        "for i in range(nb_epoch):\n",
        "\n",
        "    epoch_loss = 0\n",
        "    \n",
        "    X, Y1, Y2 = shuffle_data(X, Y1, Y2)\n",
        "    \n",
        "    for j in range(N//batch_size):\n",
        "        \n",
        "        optimizer.zero_grad()\n",
        "        \n",
        "        inp = torch.from_numpy(X[j:((j+1)*batch_size)])\n",
        "        target1 = torch.from_numpy(Y1[j:((j+1)*batch_size)])\n",
        "        target2 = torch.from_numpy(Y2[j:((j+1)*batch_size)])\n",
        "        \n",
        "        out = model(inp)\n",
        "        \n",
        "        loss = criterion(out, [target1, target2], [log_var_a, log_var_b])\n",
        "        \n",
        "        epoch_loss += loss.item()\n",
        "        \n",
        "        loss.backward()\n",
        "        \n",
        "        optimizer.step()\n",
        "   \n",
        "    loss_history[i] = epoch_loss * batch_size / N    "
      ],
      "execution_count": 0,
      "outputs": []
    },
    {
      "metadata": {
        "id": "ZoiJCMsb1BMt",
        "colab_type": "code",
        "colab": {
          "base_uri": "https://localhost:8080/",
          "height": 282
        },
        "outputId": "0af3d1e7-06b8-47ff-fa6f-e8e47be063dc"
      },
      "cell_type": "code",
      "source": [
        "# plot loss history\n",
        "\n",
        "pylab.plot(loss_history)"
      ],
      "execution_count": 247,
      "outputs": [
        {
          "output_type": "execute_result",
          "data": {
            "text/plain": [
              "[<matplotlib.lines.Line2D at 0x7fb465273128>]"
            ]
          },
          "metadata": {
            "tags": []
          },
          "execution_count": 247
        },
        {
          "output_type": "display_data",
          "data": {
            "image/png": "[encoded data removed]",
            "text/plain": [
              "<Figure size 432x288 with 1 Axes>"
            ]
          },
          "metadata": {
            "tags": []
          }
        }
      ]
    },
    {
      "metadata": {
        "id": "tudLOfJazx4X",
        "colab_type": "code",
        "colab": {
          "base_uri": "https://localhost:8080/",
          "height": 34
        },
        "outputId": "14df39e7-2ef7-4e90-8c57-fd22b195bdfc"
      },
      "cell_type": "code",
      "source": [
        "# Found standard deviations (ground truth is 10 and 1):\n",
        "std_1 = torch.exp(log_var_a)**0.5\n",
        "std_2 = torch.exp(log_var_b)**0.5\n",
        "print([std_1.item(), std_2.item()])"
      ],
      "execution_count": 248,
      "outputs": [
        {
          "output_type": "stream",
          "text": [
            "[8.658299446105957, 0.9191194176673889]\n"
          ],
          "name": "stdout"
        }
      ]
    }
  ]
}